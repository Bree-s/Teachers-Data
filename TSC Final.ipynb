{
 "cells": [
  {
   "cell_type": "code",
   "execution_count": 1,
   "metadata": {},
   "outputs": [],
   "source": [
    "#pip install pandas\n",
    "import pandas as pd\n",
    "import sqlite3 as sql\n",
    "import csv"
   ]
  },
  {
   "cell_type": "code",
   "execution_count": 8,
   "metadata": {},
   "outputs": [],
   "source": [
    "#connect to the database\n",
    "conn = sql.connect('tsc.db')\n",
    "#create cursor\n",
    "cursor = conn.cursor()"
   ]
  },
  {
   "cell_type": "code",
   "execution_count": 2,
   "metadata": {},
   "outputs": [],
   "source": [
    "#read the csv file using pandas.\n",
    "df = pd.read_csv(\"C:\\\\Users\\\\brenda.onyango\\\\Downloads\\\\tsc.csv\")"
   ]
  },
  {
   "cell_type": "code",
   "execution_count": 3,
   "metadata": {},
   "outputs": [
    {
     "data": {
      "text/html": [
       "<div>\n",
       "<style scoped>\n",
       "    .dataframe tbody tr th:only-of-type {\n",
       "        vertical-align: middle;\n",
       "    }\n",
       "\n",
       "    .dataframe tbody tr th {\n",
       "        vertical-align: top;\n",
       "    }\n",
       "\n",
       "    .dataframe thead th {\n",
       "        text-align: right;\n",
       "    }\n",
       "</style>\n",
       "<table border=\"1\" class=\"dataframe\">\n",
       "  <thead>\n",
       "    <tr style=\"text-align: right;\">\n",
       "      <th></th>\n",
       "      <th>COUNTY</th>\n",
       "      <th>School Type</th>\n",
       "      <th>Employment Body</th>\n",
       "      <th>No. of Teachers</th>\n",
       "      <th>County (centroid)</th>\n",
       "      <th>Year</th>\n",
       "    </tr>\n",
       "  </thead>\n",
       "  <tbody>\n",
       "    <tr>\n",
       "      <th>0</th>\n",
       "      <td>Baringo</td>\n",
       "      <td>Public</td>\n",
       "      <td>TSC</td>\n",
       "      <td>1172</td>\n",
       "      <td>(0.669252, 35.946465)</td>\n",
       "      <td>12/31/2014 0:00</td>\n",
       "    </tr>\n",
       "    <tr>\n",
       "      <th>1</th>\n",
       "      <td>Bomet</td>\n",
       "      <td>Public</td>\n",
       "      <td>TSC</td>\n",
       "      <td>1379</td>\n",
       "      <td>(-0.726295, 35.298598)</td>\n",
       "      <td>12/31/2014 0:00</td>\n",
       "    </tr>\n",
       "    <tr>\n",
       "      <th>2</th>\n",
       "      <td>Bungoma</td>\n",
       "      <td>Public</td>\n",
       "      <td>TSC</td>\n",
       "      <td>2946</td>\n",
       "      <td>(0.749285, 34.640461)</td>\n",
       "      <td>12/31/2014 0:00</td>\n",
       "    </tr>\n",
       "    <tr>\n",
       "      <th>3</th>\n",
       "      <td>Busia</td>\n",
       "      <td>Public</td>\n",
       "      <td>TSC</td>\n",
       "      <td>1182</td>\n",
       "      <td>(0.387444, 34.193631)</td>\n",
       "      <td>12/31/2014 0:00</td>\n",
       "    </tr>\n",
       "    <tr>\n",
       "      <th>4</th>\n",
       "      <td>Elgeyo Marakwet</td>\n",
       "      <td>Public</td>\n",
       "      <td>TSC</td>\n",
       "      <td>1087</td>\n",
       "      <td>(0.802219, 35.536563)</td>\n",
       "      <td>12/31/2014 0:00</td>\n",
       "    </tr>\n",
       "    <tr>\n",
       "      <th>...</th>\n",
       "      <td>...</td>\n",
       "      <td>...</td>\n",
       "      <td>...</td>\n",
       "      <td>...</td>\n",
       "      <td>...</td>\n",
       "      <td>...</td>\n",
       "    </tr>\n",
       "    <tr>\n",
       "      <th>187</th>\n",
       "      <td>Uasin Gishu</td>\n",
       "      <td>Private</td>\n",
       "      <td>TSC</td>\n",
       "      <td>0</td>\n",
       "      <td>(0.526086, 35.322012)</td>\n",
       "      <td>12/31/2014 0:00</td>\n",
       "    </tr>\n",
       "    <tr>\n",
       "      <th>188</th>\n",
       "      <td>Vihiga</td>\n",
       "      <td>Private</td>\n",
       "      <td>TSC</td>\n",
       "      <td>0</td>\n",
       "      <td>(0.076266, 34.722323)</td>\n",
       "      <td>12/31/2014 0:00</td>\n",
       "    </tr>\n",
       "    <tr>\n",
       "      <th>189</th>\n",
       "      <td>Wajir</td>\n",
       "      <td>Private</td>\n",
       "      <td>TSC</td>\n",
       "      <td>0</td>\n",
       "      <td>(1.808138, 40.034986)</td>\n",
       "      <td>12/31/2014 0:00</td>\n",
       "    </tr>\n",
       "    <tr>\n",
       "      <th>190</th>\n",
       "      <td>West Pokot</td>\n",
       "      <td>Private</td>\n",
       "      <td>TSC</td>\n",
       "      <td>0</td>\n",
       "      <td>(1.740106, 35.243847)</td>\n",
       "      <td>12/31/2014 0:00</td>\n",
       "    </tr>\n",
       "    <tr>\n",
       "      <th>191</th>\n",
       "      <td>Kenya</td>\n",
       "      <td>Private</td>\n",
       "      <td>TSC</td>\n",
       "      <td>0</td>\n",
       "      <td>NaN</td>\n",
       "      <td>12/31/2014 0:00</td>\n",
       "    </tr>\n",
       "  </tbody>\n",
       "</table>\n",
       "<p>192 rows × 6 columns</p>\n",
       "</div>"
      ],
      "text/plain": [
       "              COUNTY School Type Employment Body  No. of Teachers  \\\n",
       "0    Baringo             Public          TSC                 1172   \n",
       "1    Bomet               Public          TSC                 1379   \n",
       "2    Bungoma             Public          TSC                 2946   \n",
       "3    Busia               Public          TSC                 1182   \n",
       "4    Elgeyo Marakwet     Public          TSC                 1087   \n",
       "..               ...         ...             ...              ...   \n",
       "187  Uasin Gishu         Private         TSC                    0   \n",
       "188  Vihiga              Private         TSC                    0   \n",
       "189  Wajir               Private         TSC                    0   \n",
       "190  West Pokot          Private         TSC                    0   \n",
       "191  Kenya               Private         TSC                    0   \n",
       "\n",
       "          County (centroid)             Year  \n",
       "0     (0.669252, 35.946465)  12/31/2014 0:00  \n",
       "1    (-0.726295, 35.298598)  12/31/2014 0:00  \n",
       "2     (0.749285, 34.640461)  12/31/2014 0:00  \n",
       "3     (0.387444, 34.193631)  12/31/2014 0:00  \n",
       "4     (0.802219, 35.536563)  12/31/2014 0:00  \n",
       "..                      ...              ...  \n",
       "187   (0.526086, 35.322012)  12/31/2014 0:00  \n",
       "188   (0.076266, 34.722323)  12/31/2014 0:00  \n",
       "189   (1.808138, 40.034986)  12/31/2014 0:00  \n",
       "190   (1.740106, 35.243847)  12/31/2014 0:00  \n",
       "191                     NaN  12/31/2014 0:00  \n",
       "\n",
       "[192 rows x 6 columns]"
      ]
     },
     "execution_count": 3,
     "metadata": {},
     "output_type": "execute_result"
    }
   ],
   "source": [
    "# display the contents of the table declared as df\n",
    "df"
   ]
  },
  {
   "cell_type": "code",
   "execution_count": 4,
   "metadata": {},
   "outputs": [
    {
     "data": {
      "text/plain": [
       "Index(['COUNTY', 'School Type', 'Employment Body', 'No. of Teachers',\n",
       "       'County (centroid)', 'Year'],\n",
       "      dtype='object')"
      ]
     },
     "execution_count": 4,
     "metadata": {},
     "output_type": "execute_result"
    }
   ],
   "source": [
    "#print the columns \n",
    "df.columns"
   ]
  },
  {
   "cell_type": "code",
   "execution_count": 9,
   "metadata": {},
   "outputs": [],
   "source": [
    "#drop the County column\n",
    "df.drop('County (centroid)', axis=1, inplace=True) #inplace argument changes the dataframe, without it would just display desired results"
   ]
  },
  {
   "cell_type": "code",
   "execution_count": 10,
   "metadata": {
    "scrolled": true
   },
   "outputs": [
    {
     "data": {
      "text/html": [
       "<div>\n",
       "<style scoped>\n",
       "    .dataframe tbody tr th:only-of-type {\n",
       "        vertical-align: middle;\n",
       "    }\n",
       "\n",
       "    .dataframe tbody tr th {\n",
       "        vertical-align: top;\n",
       "    }\n",
       "\n",
       "    .dataframe thead th {\n",
       "        text-align: right;\n",
       "    }\n",
       "</style>\n",
       "<table border=\"1\" class=\"dataframe\">\n",
       "  <thead>\n",
       "    <tr style=\"text-align: right;\">\n",
       "      <th></th>\n",
       "      <th>COUNTY</th>\n",
       "      <th>School Type</th>\n",
       "      <th>Employment Body</th>\n",
       "      <th>No. of Teachers</th>\n",
       "      <th>Year</th>\n",
       "    </tr>\n",
       "  </thead>\n",
       "  <tbody>\n",
       "    <tr>\n",
       "      <th>0</th>\n",
       "      <td>Baringo</td>\n",
       "      <td>Public</td>\n",
       "      <td>TSC</td>\n",
       "      <td>1172</td>\n",
       "      <td>12/31/2014 0:00</td>\n",
       "    </tr>\n",
       "    <tr>\n",
       "      <th>1</th>\n",
       "      <td>Bomet</td>\n",
       "      <td>Public</td>\n",
       "      <td>TSC</td>\n",
       "      <td>1379</td>\n",
       "      <td>12/31/2014 0:00</td>\n",
       "    </tr>\n",
       "    <tr>\n",
       "      <th>2</th>\n",
       "      <td>Bungoma</td>\n",
       "      <td>Public</td>\n",
       "      <td>TSC</td>\n",
       "      <td>2946</td>\n",
       "      <td>12/31/2014 0:00</td>\n",
       "    </tr>\n",
       "    <tr>\n",
       "      <th>3</th>\n",
       "      <td>Busia</td>\n",
       "      <td>Public</td>\n",
       "      <td>TSC</td>\n",
       "      <td>1182</td>\n",
       "      <td>12/31/2014 0:00</td>\n",
       "    </tr>\n",
       "    <tr>\n",
       "      <th>4</th>\n",
       "      <td>Elgeyo Marakwet</td>\n",
       "      <td>Public</td>\n",
       "      <td>TSC</td>\n",
       "      <td>1087</td>\n",
       "      <td>12/31/2014 0:00</td>\n",
       "    </tr>\n",
       "    <tr>\n",
       "      <th>...</th>\n",
       "      <td>...</td>\n",
       "      <td>...</td>\n",
       "      <td>...</td>\n",
       "      <td>...</td>\n",
       "      <td>...</td>\n",
       "    </tr>\n",
       "    <tr>\n",
       "      <th>187</th>\n",
       "      <td>Uasin Gishu</td>\n",
       "      <td>Private</td>\n",
       "      <td>TSC</td>\n",
       "      <td>0</td>\n",
       "      <td>12/31/2014 0:00</td>\n",
       "    </tr>\n",
       "    <tr>\n",
       "      <th>188</th>\n",
       "      <td>Vihiga</td>\n",
       "      <td>Private</td>\n",
       "      <td>TSC</td>\n",
       "      <td>0</td>\n",
       "      <td>12/31/2014 0:00</td>\n",
       "    </tr>\n",
       "    <tr>\n",
       "      <th>189</th>\n",
       "      <td>Wajir</td>\n",
       "      <td>Private</td>\n",
       "      <td>TSC</td>\n",
       "      <td>0</td>\n",
       "      <td>12/31/2014 0:00</td>\n",
       "    </tr>\n",
       "    <tr>\n",
       "      <th>190</th>\n",
       "      <td>West Pokot</td>\n",
       "      <td>Private</td>\n",
       "      <td>TSC</td>\n",
       "      <td>0</td>\n",
       "      <td>12/31/2014 0:00</td>\n",
       "    </tr>\n",
       "    <tr>\n",
       "      <th>191</th>\n",
       "      <td>Kenya</td>\n",
       "      <td>Private</td>\n",
       "      <td>TSC</td>\n",
       "      <td>0</td>\n",
       "      <td>12/31/2014 0:00</td>\n",
       "    </tr>\n",
       "  </tbody>\n",
       "</table>\n",
       "<p>192 rows × 5 columns</p>\n",
       "</div>"
      ],
      "text/plain": [
       "              COUNTY School Type Employment Body  No. of Teachers  \\\n",
       "0    Baringo             Public          TSC                 1172   \n",
       "1    Bomet               Public          TSC                 1379   \n",
       "2    Bungoma             Public          TSC                 2946   \n",
       "3    Busia               Public          TSC                 1182   \n",
       "4    Elgeyo Marakwet     Public          TSC                 1087   \n",
       "..               ...         ...             ...              ...   \n",
       "187  Uasin Gishu         Private         TSC                    0   \n",
       "188  Vihiga              Private         TSC                    0   \n",
       "189  Wajir               Private         TSC                    0   \n",
       "190  West Pokot          Private         TSC                    0   \n",
       "191  Kenya               Private         TSC                    0   \n",
       "\n",
       "                Year  \n",
       "0    12/31/2014 0:00  \n",
       "1    12/31/2014 0:00  \n",
       "2    12/31/2014 0:00  \n",
       "3    12/31/2014 0:00  \n",
       "4    12/31/2014 0:00  \n",
       "..               ...  \n",
       "187  12/31/2014 0:00  \n",
       "188  12/31/2014 0:00  \n",
       "189  12/31/2014 0:00  \n",
       "190  12/31/2014 0:00  \n",
       "191  12/31/2014 0:00  \n",
       "\n",
       "[192 rows x 5 columns]"
      ]
     },
     "execution_count": 10,
     "metadata": {},
     "output_type": "execute_result"
    }
   ],
   "source": [
    "df"
   ]
  },
  {
   "cell_type": "code",
   "execution_count": 48,
   "metadata": {},
   "outputs": [
    {
     "data": {
      "text/plain": [
       "['COUNTY', 'School Type', 'Employment Body', 'No. of Teachers', 'Year']"
      ]
     },
     "execution_count": 48,
     "metadata": {},
     "output_type": "execute_result"
    }
   ],
   "source": [
    "df.columns.tolist()"
   ]
  },
  {
   "cell_type": "code",
   "execution_count": 11,
   "metadata": {},
   "outputs": [
    {
     "name": "stdout",
     "output_type": "stream",
     "text": [
      "Teachers\n"
     ]
    }
   ],
   "source": [
    "#Create Teachers Table\n",
    "cursor.execute('''CREATE TABLE IF NOT EXISTS Teachers\n",
    "               (COUNTY TEXT NOT NULL,\n",
    "                SchoolType TEXT NOT NULL,\n",
    "                EmploymentBody TEXT NOT NULL,\n",
    "               NoOfTeachers INT NOT NULL, \n",
    "               Year DATETIME NOT NULL)''')\n",
    "conn.commit()\n",
    "print(\"Teachers\")"
   ]
  },
  {
   "cell_type": "code",
   "execution_count": 44,
   "metadata": {},
   "outputs": [
    {
     "name": "stderr",
     "output_type": "stream",
     "text": [
      "C:\\Users\\brenda.onyango\\Anaconda3\\lib\\site-packages\\pandas\\core\\generic.py:2605: UserWarning: The spaces in these column names will not be changed. In pandas versions < 0.14, spaces were converted to underscores.\n",
      "  sql.to_sql(\n"
     ]
    }
   ],
   "source": [
    "#convert the df to sqlite declared as sql\n",
    "df.to_sql('Teacher', conn, if_exists='replace', index=False)\n",
    "\n",
    "teacher=[]\n",
    "\n",
    "tbl=\"<tr><td>COUNTY</td><td>School Type</td><td>Employment Body</td><td>No Of Teachers</td><td>Year</td></tr>\"\n",
    "teacher.append(tbl)\n",
    "\n",
    "cursor.execute(\"SELECT * FROM Teachers\")\n",
    "\n",
    "for x in teachers:\n",
    "    a = \"<tr><td>%s</td>\"%x[0]\n",
    "    teacher.append(a)\n",
    "    b = \"<td>%s</td>\"%x[1]\n",
    "    teacher.append(b)\n",
    "    c = \"<td>%s</td>\"%x[2]\n",
    "    teacher.append(c)\n",
    "    d = \"<td>%s</td></tr>\"%x[3]\n",
    "    teacher.append(d)\n",
    "    e = \"<td>%s</td></tr>\"%x[4]\n",
    "    teacher.append(e)"
   ]
  },
  {
   "cell_type": "code",
   "execution_count": 46,
   "metadata": {},
   "outputs": [
    {
     "data": {
      "text/plain": [
       "True"
      ]
     },
     "execution_count": 46,
     "metadata": {},
     "output_type": "execute_result"
    }
   ],
   "source": [
    "#Display the Tsc DB on HTML\n",
    "import webbrowser  #To launch the browser\n",
    "\n",
    "f = open('hrec.html', 'w')\n",
    "\n",
    "contents ='''<!DOCTYPE html>\n",
    "<html>\n",
    "<head>\n",
    "<style>\n",
    "body {background-color: cyan;}\n",
    "<meta content =\"text/html; charset=ISO-8859-1\"\n",
    "http-equiv=\"content-type\">\n",
    "<title>Teachers Data Output</title>\n",
    "</head>\n",
    "<body>\n",
    "<table border=\"3\" bordercolor=\"330000\">\n",
    "%s\n",
    "</style>\n",
    "</table>\n",
    "</body>\n",
    "</html>\n",
    "'''%(teachers)\n",
    "\n",
    "f.write(contents)\n",
    "f.close()\n",
    "webbrowser.open_new_tab('hrec.html')"
   ]
  },
  {
   "cell_type": "code",
   "execution_count": 47,
   "metadata": {},
   "outputs": [
    {
     "data": {
      "text/plain": [
       "True"
      ]
     },
     "execution_count": 47,
     "metadata": {},
     "output_type": "execute_result"
    }
   ],
   "source": [
    "html = df.to_html(\"tsc.html\")\n",
    "data = open(\"tsc.html\", \"r+\")\n",
    "data.close()\n",
    "\n",
    "webbrowser.open_new_tab('tsc.html')"
   ]
  },
  {
   "cell_type": "code",
   "execution_count": 30,
   "metadata": {},
   "outputs": [],
   "source": [
    "#tsc = pd.read_csv(r\"C:\\\\Users\\\\brenda.onyango\\\\Downloads\\\\tsc.csv\")\n",
    "#df.to_html(\"tsc.html\")\n",
    "#with open (\"tsc.html\") as file:\n",
    " #   file = file.read()\n",
    "#with open (\"tsc.html\", \"w\") as file_to_write:\n",
    "#    os.startfile(\"tsc.html\")"
   ]
  },
  {
   "cell_type": "code",
   "execution_count": null,
   "metadata": {},
   "outputs": [],
   "source": []
  }
 ],
 "metadata": {
  "kernelspec": {
   "display_name": "Python 3",
   "language": "python",
   "name": "python3"
  },
  "language_info": {
   "codemirror_mode": {
    "name": "ipython",
    "version": 3
   },
   "file_extension": ".py",
   "mimetype": "text/x-python",
   "name": "python",
   "nbconvert_exporter": "python",
   "pygments_lexer": "ipython3",
   "version": "3.8.5"
  }
 },
 "nbformat": 4,
 "nbformat_minor": 4
}
